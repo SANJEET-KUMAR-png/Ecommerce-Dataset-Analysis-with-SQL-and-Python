{
 "cells": [
  {
   "cell_type": "code",
   "execution_count": null,
   "id": "53f5f26f-3c63-4d56-9ce6-209b031f82a7",
   "metadata": {},
   "outputs": [],
   "source": []
  }
 ],
 "metadata": {
  "kernelspec": {
   "display_name": "",
   "name": ""
  },
  "language_info": {
   "name": ""
  }
 },
 "nbformat": 4,
 "nbformat_minor": 5
}
